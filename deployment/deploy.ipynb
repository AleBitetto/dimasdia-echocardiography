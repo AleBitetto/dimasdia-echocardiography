{
 "cells": [
  {
   "cell_type": "code",
   "execution_count": null,
   "metadata": {},
   "outputs": [],
   "source": [
    "import sys\n",
    "from boto3 import Session as BotoSession\n",
    "import sagemaker\n",
    "from sagemaker import Session\n",
    "from sagemaker.pytorch import PyTorchModel, PyTorchPredictor"
   ]
  },
  {
   "cell_type": "code",
   "execution_count": null,
   "metadata": {},
   "outputs": [],
   "source": [
    "print('Python version: {}'. format(sys.version))\n",
    "print('Sagemaker version: {}'.format(sagemaker.__version__))"
   ]
  },
  {
   "cell_type": "code",
   "execution_count": null,
   "metadata": {},
   "outputs": [],
   "source": [
    "boto_session=BotoSession(\n",
    "    region_name='eu-west-1',\n",
    "    profile_name='defeatcovid19'\n",
    ")\n",
    "session = Session(boto_session=boto_session)"
   ]
  },
  {
   "cell_type": "code",
   "execution_count": null,
   "metadata": {},
   "outputs": [],
   "source": [
    "version=5"
   ]
  },
  {
   "cell_type": "code",
   "execution_count": null,
   "metadata": {},
   "outputs": [],
   "source": [
    "role = 'arn:aws:iam::953018779520:role/service-role/AmazonSageMaker-ExecutionRole-20200327T152761'\n",
    "pytorch_model = PyTorchModel(\n",
    "    model_data='s3://prod.models.sagemaker.defeatcovid19.org/pilot-akinesis-eco-sacco/model.tar.gz', \n",
    "    role=role, \n",
    "    entry_point='inference.py',\n",
    "    framework_version='1.6.0',\n",
    "    py_version='py3',\n",
    "    sagemaker_session=session,\n",
    "    name='PilotEcoAkinesisSacco-v{}'.format(version)\n",
    ")\n",
    "predictor = pytorch_model.deploy(\n",
    "    instance_type='ml.t2.medium', \n",
    "    initial_instance_count=1,\n",
    "    endpoint_name='PilotEcoAkinesisSaccoEndpoint-v{}'.format(version)\n",
    ")"
   ]
  },
  {
   "cell_type": "code",
   "execution_count": null,
   "metadata": {},
   "outputs": [],
   "source": [
    "old_predictor = PyTorchPredictor(\n",
    "    endpoint_name='PilotEcoAkinesisSaccoEndpoint-v{}'.format(version - 1),\n",
    "    sagemaker_session=session\n",
    ")\n",
    "old_predictor.delete_endpoint()\n",
    "old_predictor.delete_model()"
   ]
  },
  {
   "cell_type": "code",
   "execution_count": null,
   "metadata": {},
   "outputs": [],
   "source": []
  }
 ],
 "metadata": {
  "kernelspec": {
   "display_name": "SageMaker Deploy",
   "language": "python",
   "name": "sagemaker-deploy"
  },
  "language_info": {
   "codemirror_mode": {
    "name": "ipython",
    "version": 3
   },
   "file_extension": ".py",
   "mimetype": "text/x-python",
   "name": "python",
   "nbconvert_exporter": "python",
   "pygments_lexer": "ipython3",
   "version": "3.8.5"
  }
 },
 "nbformat": 4,
 "nbformat_minor": 4
}
